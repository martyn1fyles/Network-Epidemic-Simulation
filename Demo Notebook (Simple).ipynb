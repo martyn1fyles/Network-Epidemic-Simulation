{
 "nbformat": 4,
 "nbformat_minor": 2,
 "metadata": {
  "language_info": {
   "name": "python",
   "codemirror_mode": {
    "name": "ipython",
    "version": 3
   }
  },
  "orig_nbformat": 2,
  "file_extension": ".py",
  "mimetype": "text/x-python",
  "name": "python",
  "npconvert_exporter": "python",
  "pygments_lexer": "ipython3",
  "version": 3
 },
 "cells": [
  {
   "cell_type": "markdown",
   "execution_count": null,
   "metadata": {},
   "outputs": [],
   "source": [
    "Hi\n",
    "\n",
    "This is my little notebook that sees how everything runs"
   ]
  },
  {
   "cell_type": "code",
   "execution_count": 28,
   "metadata": {},
   "outputs": [
    {
     "name": "stdout",
     "output_type": "stream",
     "text": "Taking the exponential distribution for the infectious periods.\n"
    },
    {
     "data": {
      "text/plain": "167"
     },
     "execution_count": 28,
     "metadata": {},
     "output_type": "execute_result"
    }
   ],
   "source": [
    "from simulation_code import SIR_Selke\n",
    "import numpy as np\n",
    "simulation_class = SIR_Selke(200,0.008, 1.5, 5)\n",
    "simulation_class.gen_final_size()"
   ]
  },
  {
   "cell_type": "code",
   "execution_count": 32,
   "metadata": {},
   "outputs": [
    {
     "name": "stdout",
     "output_type": "stream",
     "text": "Taking the exponential distribution for the infectious periods.\nPerforming 200 iterations!\n[180, 167, 185, 175, 177, 192, 174, 180, 187, 178, 172, 179, 182, 161, 175, 182, 163, 177, 185, 177, 184, 180, 178, 182, 184, 182, 175, 168, 156, 168, 181, 183, 181, 177, 170, 178, 181, 177, 156, 163, 185, 176, 177, 182, 179, 186, 174, 166, 153, 188, 176, 174, 180, 181, 152, 175, 182, 170, 180, 187, 186, 171, 181, 180, 183, 167, 184, 187, 169, 186, 185, 192, 172, 165, 189, 178, 177, 166, 155, 179, 170, 186, 168, 174, 172, 167, 152, 173, 154, 176, 174, 174, 169, 177, 177, 170, 178, 173, 174, 167, 186, 176, 181, 184, 177, 181, 175, 181, 187, 179, 176, 169, 177, 188, 182, 176, 177, 176, 177, 163, 170, 161, 180, 185, 175, 188, 178, 181, 182, 163, 172, 178, 181, 176, 186, 180, 173, 174, 178, 174, 176, 177, 183, 176, 176, 161, 179, 183, 164, 154, 163, 183, 174, 163, 174, 176, 175, 171, 187, 174, 183, 188, 171, 170, 169, 180, 183, 175, 175, 169, 172, 185, 183, 175, 183, 175, 161, 176, 180, 176, 187, 177, 172, 182, 180, 185, 175, 164, 179, 177, 180, 176, 179, 186, 174, 187, 161, 180, 187, 169]\nNone\n"
    }
   ],
   "source": [
    "simulation_class = SIR_Selke(200,0.008, 1.5, 5)\n",
    "data = simulation_class.sim_final_size(200)\n",
    "print(data)"
   ]
  },
  {
   "cell_type": "code",
   "execution_count": null,
   "metadata": {},
   "outputs": [],
   "source": []
  }
 ]
}