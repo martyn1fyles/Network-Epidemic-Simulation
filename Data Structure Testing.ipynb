{
 "cells": [
  {
   "cell_type": "code",
   "execution_count": 3,
   "metadata": {},
   "outputs": [],
   "source": [
    "import networkx as nx"
   ]
  },
  {
   "cell_type": "code",
   "execution_count": 4,
   "metadata": {},
   "outputs": [],
   "source": [
    "test_network = nx.grid_2d_graph(10,10)"
   ]
  },
  {
   "cell_type": "code",
   "execution_count": 5,
   "metadata": {},
   "outputs": [],
   "source": [
    "demo_row = {\"Infected Status\": \"Susceptible\",\n",
    "            \"Resistance\": 0,\n",
    "            \"Infection Duration\": 0\n",
    "            }"
   ]
  },
  {
   "cell_type": "code",
   "execution_count": 6,
   "metadata": {},
   "outputs": [
    {
     "data": {
      "text/plain": [
       "{'Infected Status': 'Susceptible', 'Resistance': 0, 'Infection Duration': 0}"
      ]
     },
     "execution_count": 6,
     "metadata": {},
     "output_type": "execute_result"
    }
   ],
   "source": [
    "epidemic_data = dict(test_network.nodes())\n",
    "for key in epidemic_data:\n",
    "    epidemic_data[key] = demo_row\n",
    "epidemic_data[(0,0)]\n"
   ]
  },
  {
   "cell_type": "code",
   "execution_count": 7,
   "metadata": {},
   "outputs": [
    {
     "data": {
      "text/plain": [
       "[{'Infected Status': 'Susceptible', 'Resistance': 0, 'Infection Duration': 0},\n",
       " {'Infected Status': 'Susceptible', 'Resistance': 0, 'Infection Duration': 0},\n",
       " {'Infected Status': 'Susceptible', 'Resistance': 0, 'Infection Duration': 0},\n",
       " {'Infected Status': 'Susceptible', 'Resistance': 0, 'Infection Duration': 0},\n",
       " {'Infected Status': 'Susceptible', 'Resistance': 0, 'Infection Duration': 0},\n",
       " {'Infected Status': 'Susceptible', 'Resistance': 0, 'Infection Duration': 0},\n",
       " {'Infected Status': 'Susceptible', 'Resistance': 0, 'Infection Duration': 0},\n",
       " {'Infected Status': 'Susceptible', 'Resistance': 0, 'Infection Duration': 0},\n",
       " {'Infected Status': 'Susceptible', 'Resistance': 0, 'Infection Duration': 0},\n",
       " {'Infected Status': 'Susceptible', 'Resistance': 0, 'Infection Duration': 0}]"
      ]
     },
     "execution_count": 7,
     "metadata": {},
     "output_type": "execute_result"
    }
   ],
   "source": [
    "my_node_list = list(test_network.nodes())\n",
    "epidemic_data = dict(test_network.nodes())\n",
    "for key in epidemic_data:\n",
    "    epidemic_data[key] = demo_row\n",
    "    \n",
    "[epidemic_data[node] for node in my_node_list[0:10]]"
   ]
  },
  {
   "cell_type": "code",
   "execution_count": 8,
   "metadata": {},
   "outputs": [
    {
     "data": {
      "text/plain": [
       "'Susceptible'"
      ]
     },
     "execution_count": 8,
     "metadata": {},
     "output_type": "execute_result"
    }
   ],
   "source": [
    "epidemic_data[(0,0)][\"Infected Status\"]"
   ]
  },
  {
   "cell_type": "code",
   "execution_count": 9,
   "metadata": {},
   "outputs": [
    {
     "data": {
      "text/plain": [
       "'Susceptible'"
      ]
     },
     "execution_count": 9,
     "metadata": {},
     "output_type": "execute_result"
    }
   ],
   "source": [
    "epidemic_data[(0,1)][\"Infected Status\"]"
   ]
  },
  {
   "cell_type": "code",
   "execution_count": 10,
   "metadata": {},
   "outputs": [],
   "source": [
    "epidemic_data[(0,0)][\"Infected Status\"] = \"Infected\""
   ]
  },
  {
   "cell_type": "code",
   "execution_count": 11,
   "metadata": {},
   "outputs": [
    {
     "data": {
      "text/plain": [
       "'Infected'"
      ]
     },
     "execution_count": 11,
     "metadata": {},
     "output_type": "execute_result"
    }
   ],
   "source": [
    "epidemic_data[(0,0)][\"Infected Status\"]"
   ]
  },
  {
   "cell_type": "code",
   "execution_count": 12,
   "metadata": {},
   "outputs": [
    {
     "data": {
      "text/plain": [
       "'Infected'"
      ]
     },
     "execution_count": 12,
     "metadata": {},
     "output_type": "execute_result"
    }
   ],
   "source": [
    "epidemic_data[(0,1)][\"Infected Status\"]"
   ]
  },
  {
   "cell_type": "code",
   "execution_count": 13,
   "metadata": {},
   "outputs": [
    {
     "data": {
      "text/plain": [
       "{'Infected Status': 'Infected', 'Resistance': 0, 'Infection Duration': 0}"
      ]
     },
     "execution_count": 13,
     "metadata": {},
     "output_type": "execute_result"
    }
   ],
   "source": [
    "demo_row"
   ]
  },
  {
   "cell_type": "code",
   "execution_count": 14,
   "metadata": {},
   "outputs": [
    {
     "data": {
      "text/plain": [
       "{'Infected Status': 'Susceptible', 'Resistance': 0, 'Infection Duration': 0}"
      ]
     },
     "execution_count": 14,
     "metadata": {},
     "output_type": "execute_result"
    }
   ],
   "source": [
    "epidemic_data = dict(test_network.nodes())\n",
    "for key in epidemic_data:\n",
    "    epidemic_data[key] = {\n",
    "        \"Infected Status\": \"Susceptible\",\n",
    "        \"Resistance\": 0,\n",
    "        \"Infection Duration\": 0\n",
    "    }\n",
    "\n",
    "epidemic_data[(0,0)]\n"
   ]
  },
  {
   "cell_type": "code",
   "execution_count": 15,
   "metadata": {},
   "outputs": [],
   "source": [
    "epidemic_data[(0,0)][\"Infected Status\"] = \"Infected\""
   ]
  },
  {
   "cell_type": "code",
   "execution_count": 16,
   "metadata": {},
   "outputs": [
    {
     "data": {
      "text/plain": [
       "'Susceptible'"
      ]
     },
     "execution_count": 16,
     "metadata": {},
     "output_type": "execute_result"
    }
   ],
   "source": [
    "epidemic_data[(0,1)][\"Infected Status\"]"
   ]
  },
  {
   "cell_type": "code",
   "execution_count": 17,
   "metadata": {},
   "outputs": [
    {
     "data": {
      "text/plain": [
       "[{'Infected Status': 'Susceptible', 'Resistance': 0, 'Infection Duration': 0},\n",
       " {'Infected Status': 'Susceptible', 'Resistance': 0, 'Infection Duration': 0},\n",
       " {'Infected Status': 'Susceptible', 'Resistance': 0, 'Infection Duration': 0},\n",
       " {'Infected Status': 'Susceptible', 'Resistance': 0, 'Infection Duration': 0},\n",
       " {'Infected Status': 'Susceptible', 'Resistance': 0, 'Infection Duration': 0},\n",
       " {'Infected Status': 'Susceptible', 'Resistance': 0, 'Infection Duration': 0},\n",
       " {'Infected Status': 'Susceptible', 'Resistance': 0, 'Infection Duration': 0},\n",
       " {'Infected Status': 'Susceptible', 'Resistance': 0, 'Infection Duration': 0},\n",
       " {'Infected Status': 'Susceptible', 'Resistance': 0, 'Infection Duration': 0},\n",
       " {'Infected Status': 'Susceptible', 'Resistance': 0, 'Infection Duration': 0}]"
      ]
     },
     "execution_count": 17,
     "metadata": {},
     "output_type": "execute_result"
    }
   ],
   "source": [
    "demo_row = {\"Infected Status\": \"Susceptible\",\n",
    "            \"Resistance\": 0,\n",
    "            \"Infection Duration\": 0\n",
    "            }\n",
    "\n",
    "my_node_list = list(test_network.nodes())\n",
    "epidemic_data = dict(test_network.nodes())\n",
    "for key in epidemic_data:\n",
    "    epidemic_data[key] = demo_row.copy()\n",
    "    \n",
    "[epidemic_data[node] for node in my_node_list[0:10]]"
   ]
  },
  {
   "cell_type": "code",
   "execution_count": 18,
   "metadata": {},
   "outputs": [],
   "source": [
    "epidemic_data[(0,0)][\"Infected Status\"] = \"Infected\"\n"
   ]
  },
  {
   "cell_type": "code",
   "execution_count": 19,
   "metadata": {},
   "outputs": [
    {
     "data": {
      "text/plain": [
       "[{'Infected Status': 'Infected', 'Resistance': 0, 'Infection Duration': 0},\n",
       " {'Infected Status': 'Susceptible', 'Resistance': 0, 'Infection Duration': 0},\n",
       " {'Infected Status': 'Susceptible', 'Resistance': 0, 'Infection Duration': 0},\n",
       " {'Infected Status': 'Susceptible', 'Resistance': 0, 'Infection Duration': 0},\n",
       " {'Infected Status': 'Susceptible', 'Resistance': 0, 'Infection Duration': 0},\n",
       " {'Infected Status': 'Susceptible', 'Resistance': 0, 'Infection Duration': 0},\n",
       " {'Infected Status': 'Susceptible', 'Resistance': 0, 'Infection Duration': 0},\n",
       " {'Infected Status': 'Susceptible', 'Resistance': 0, 'Infection Duration': 0},\n",
       " {'Infected Status': 'Susceptible', 'Resistance': 0, 'Infection Duration': 0},\n",
       " {'Infected Status': 'Susceptible', 'Resistance': 0, 'Infection Duration': 0}]"
      ]
     },
     "execution_count": 19,
     "metadata": {},
     "output_type": "execute_result"
    }
   ],
   "source": [
    "[epidemic_data[node for node in my_node_list[0:10]]"
   ]
  },
  {
   "cell_type": "code",
   "execution_count": 39,
   "metadata": {},
   "outputs": [
    {
     "name": "stdout",
     "output_type": "stream",
     "text": [
      "{'Infected Status': 'Susceptible', 'Resistance': 0, 'Infection Duration': 0}\n",
      "{'Infected Status': 'Susceptible', 'Resistance': 0, 'Infection Duration': 0}\n",
      "{'Infected Status': 'Susceptible', 'Resistance': 0, 'Infection Duration': 0}\n",
      "{'Infected Status': 'Susceptible', 'Resistance': 0, 'Infection Duration': 0}\n",
      "{'Infected Status': 'Susceptible', 'Resistance': 0, 'Infection Duration': 0}\n",
      "{'Infected Status': 'Susceptible', 'Resistance': 0, 'Infection Duration': 0}\n",
      "{'Infected Status': 'Susceptible', 'Resistance': 0, 'Infection Duration': 0}\n",
      "{'Infected Status': 'Susceptible', 'Resistance': 0, 'Infection Duration': 0}\n",
      "{'Infected Status': 'Susceptible', 'Resistance': 0, 'Infection Duration': 0}\n",
      "{'Infected Status': 'Susceptible', 'Resistance': 0, 'Infection Duration': 0}\n",
      "{'Infected Status': 'Susceptible', 'Resistance': 0, 'Infection Duration': 0}\n",
      "{'Infected Status': 'Susceptible', 'Resistance': 0, 'Infection Duration': 0}\n",
      "{'Infected Status': 'Susceptible', 'Resistance': 0, 'Infection Duration': 0}\n",
      "{'Infected Status': 'Susceptible', 'Resistance': 0, 'Infection Duration': 0}\n",
      "{'Infected Status': 'Susceptible', 'Resistance': 0, 'Infection Duration': 0}\n",
      "{'Infected Status': 'Susceptible', 'Resistance': 0, 'Infection Duration': 0}\n",
      "{'Infected Status': 'Susceptible', 'Resistance': 0, 'Infection Duration': 0}\n",
      "{'Infected Status': 'Susceptible', 'Resistance': 0, 'Infection Duration': 0}\n",
      "{'Infected Status': 'Susceptible', 'Resistance': 0, 'Infection Duration': 0}\n",
      "{'Infected Status': 'Susceptible', 'Resistance': 0, 'Infection Duration': 0}\n",
      "{'Infected Status': 'Susceptible', 'Resistance': 0, 'Infection Duration': 0}\n",
      "{'Infected Status': 'Susceptible', 'Resistance': 0, 'Infection Duration': 0}\n",
      "{'Infected Status': 'Susceptible', 'Resistance': 0, 'Infection Duration': 0}\n",
      "{'Infected Status': 'Susceptible', 'Resistance': 0, 'Infection Duration': 0}\n",
      "{'Infected Status': 'Susceptible', 'Resistance': 0, 'Infection Duration': 0}\n",
      "{'Infected Status': 'Susceptible', 'Resistance': 0, 'Infection Duration': 0}\n",
      "{'Infected Status': 'Susceptible', 'Resistance': 0, 'Infection Duration': 0}\n",
      "{'Infected Status': 'Susceptible', 'Resistance': 0, 'Infection Duration': 0}\n",
      "{'Infected Status': 'Susceptible', 'Resistance': 0, 'Infection Duration': 0}\n",
      "{'Infected Status': 'Susceptible', 'Resistance': 0, 'Infection Duration': 0}\n",
      "{'Infected Status': 'Susceptible', 'Resistance': 0, 'Infection Duration': 0}\n",
      "{'Infected Status': 'Susceptible', 'Resistance': 0, 'Infection Duration': 0}\n",
      "{'Infected Status': 'Susceptible', 'Resistance': 0, 'Infection Duration': 0}\n",
      "{'Infected Status': 'Susceptible', 'Resistance': 0, 'Infection Duration': 0}\n",
      "{'Infected Status': 'Susceptible', 'Resistance': 0, 'Infection Duration': 0}\n",
      "{'Infected Status': 'Susceptible', 'Resistance': 0, 'Infection Duration': 0}\n",
      "{'Infected Status': 'Susceptible', 'Resistance': 0, 'Infection Duration': 0}\n",
      "{'Infected Status': 'Susceptible', 'Resistance': 0, 'Infection Duration': 0}\n",
      "{'Infected Status': 'Susceptible', 'Resistance': 0, 'Infection Duration': 0}\n",
      "{'Infected Status': 'Susceptible', 'Resistance': 0, 'Infection Duration': 0}\n",
      "{'Infected Status': 'Susceptible', 'Resistance': 0, 'Infection Duration': 0}\n",
      "{'Infected Status': 'Susceptible', 'Resistance': 0, 'Infection Duration': 0}\n",
      "{'Infected Status': 'Susceptible', 'Resistance': 0, 'Infection Duration': 0}\n",
      "{'Infected Status': 'Susceptible', 'Resistance': 0, 'Infection Duration': 0}\n",
      "{'Infected Status': 'Susceptible', 'Resistance': 0, 'Infection Duration': 0}\n",
      "{'Infected Status': 'Susceptible', 'Resistance': 0, 'Infection Duration': 0}\n",
      "{'Infected Status': 'Susceptible', 'Resistance': 0, 'Infection Duration': 0}\n",
      "{'Infected Status': 'Susceptible', 'Resistance': 0, 'Infection Duration': 0}\n",
      "{'Infected Status': 'Susceptible', 'Resistance': 0, 'Infection Duration': 0}\n",
      "{'Infected Status': 'Susceptible', 'Resistance': 0, 'Infection Duration': 0}\n",
      "{'Infected Status': 'Susceptible', 'Resistance': 0, 'Infection Duration': 0}\n",
      "{'Infected Status': 'Susceptible', 'Resistance': 0, 'Infection Duration': 0}\n",
      "{'Infected Status': 'Susceptible', 'Resistance': 0, 'Infection Duration': 0}\n",
      "{'Infected Status': 'Susceptible', 'Resistance': 0, 'Infection Duration': 0}\n",
      "{'Infected Status': 'Susceptible', 'Resistance': 0, 'Infection Duration': 0}\n",
      "{'Infected Status': 'Susceptible', 'Resistance': 0, 'Infection Duration': 0}\n",
      "{'Infected Status': 'Susceptible', 'Resistance': 0, 'Infection Duration': 0}\n",
      "{'Infected Status': 'Susceptible', 'Resistance': 0, 'Infection Duration': 0}\n",
      "{'Infected Status': 'Susceptible', 'Resistance': 0, 'Infection Duration': 0}\n",
      "{'Infected Status': 'Susceptible', 'Resistance': 0, 'Infection Duration': 0}\n",
      "{'Infected Status': 'Susceptible', 'Resistance': 0, 'Infection Duration': 0}\n",
      "{'Infected Status': 'Susceptible', 'Resistance': 0, 'Infection Duration': 0}\n",
      "{'Infected Status': 'Susceptible', 'Resistance': 0, 'Infection Duration': 0}\n",
      "{'Infected Status': 'Susceptible', 'Resistance': 0, 'Infection Duration': 0}\n",
      "{'Infected Status': 'Susceptible', 'Resistance': 0, 'Infection Duration': 0}\n",
      "{'Infected Status': 'Susceptible', 'Resistance': 0, 'Infection Duration': 0}\n",
      "{'Infected Status': 'Susceptible', 'Resistance': 0, 'Infection Duration': 0}\n",
      "{'Infected Status': 'Susceptible', 'Resistance': 0, 'Infection Duration': 0}\n",
      "{'Infected Status': 'Susceptible', 'Resistance': 0, 'Infection Duration': 0}\n",
      "{'Infected Status': 'Susceptible', 'Resistance': 0, 'Infection Duration': 0}\n",
      "{'Infected Status': 'Susceptible', 'Resistance': 0, 'Infection Duration': 0}\n",
      "{'Infected Status': 'Susceptible', 'Resistance': 0, 'Infection Duration': 0}\n",
      "{'Infected Status': 'Susceptible', 'Resistance': 0, 'Infection Duration': 0}\n",
      "{'Infected Status': 'Susceptible', 'Resistance': 0, 'Infection Duration': 0}\n",
      "{'Infected Status': 'Susceptible', 'Resistance': 0, 'Infection Duration': 0}\n",
      "{'Infected Status': 'Susceptible', 'Resistance': 0, 'Infection Duration': 0}\n",
      "{'Infected Status': 'Susceptible', 'Resistance': 0, 'Infection Duration': 0}\n",
      "{'Infected Status': 'Susceptible', 'Resistance': 0, 'Infection Duration': 0}\n",
      "{'Infected Status': 'Susceptible', 'Resistance': 0, 'Infection Duration': 0}\n",
      "{'Infected Status': 'Susceptible', 'Resistance': 0, 'Infection Duration': 0}\n",
      "{'Infected Status': 'Susceptible', 'Resistance': 0, 'Infection Duration': 0}\n",
      "{'Infected Status': 'Susceptible', 'Resistance': 0, 'Infection Duration': 0}\n",
      "{'Infected Status': 'Susceptible', 'Resistance': 0, 'Infection Duration': 0}\n",
      "{'Infected Status': 'Susceptible', 'Resistance': 0, 'Infection Duration': 0}\n",
      "{'Infected Status': 'Susceptible', 'Resistance': 0, 'Infection Duration': 0}\n",
      "{'Infected Status': 'Susceptible', 'Resistance': 0, 'Infection Duration': 0}\n",
      "{'Infected Status': 'Susceptible', 'Resistance': 0, 'Infection Duration': 0}\n",
      "{'Infected Status': 'Susceptible', 'Resistance': 0, 'Infection Duration': 0}\n",
      "{'Infected Status': 'Susceptible', 'Resistance': 0, 'Infection Duration': 0}\n",
      "{'Infected Status': 'Susceptible', 'Resistance': 0, 'Infection Duration': 0}\n",
      "{'Infected Status': 'Susceptible', 'Resistance': 0, 'Infection Duration': 0}\n",
      "{'Infected Status': 'Susceptible', 'Resistance': 0, 'Infection Duration': 0}\n",
      "{'Infected Status': 'Susceptible', 'Resistance': 0, 'Infection Duration': 0}\n",
      "{'Infected Status': 'Susceptible', 'Resistance': 0, 'Infection Duration': 0}\n",
      "{'Infected Status': 'Susceptible', 'Resistance': 0, 'Infection Duration': 0}\n",
      "{'Infected Status': 'Susceptible', 'Resistance': 0, 'Infection Duration': 0}\n",
      "{'Infected Status': 'Susceptible', 'Resistance': 0, 'Infection Duration': 0}\n",
      "{'Infected Status': 'Susceptible', 'Resistance': 0, 'Infection Duration': 0}\n",
      "{'Infected Status': 'Susceptible', 'Resistance': 0, 'Infection Duration': 0}\n"
     ]
    }
   ],
   "source": [
    "for node in epidemic_data:\n",
    "    if epidemic_data[node][\"Infected Status\"] == \"Susceptible\":\n",
    "        epidemic_data[node]\n"
   ]
  },
  {
   "cell_type": "code",
   "execution_count": 42,
   "metadata": {},
   "outputs": [
    {
     "data": {
      "text/plain": [
       "[(0, 1),\n",
       " (0, 2),\n",
       " (0, 3),\n",
       " (0, 4),\n",
       " (0, 5),\n",
       " (0, 6),\n",
       " (0, 7),\n",
       " (0, 8),\n",
       " (0, 9),\n",
       " (1, 0),\n",
       " (1, 1),\n",
       " (1, 2),\n",
       " (1, 3),\n",
       " (1, 4),\n",
       " (1, 5),\n",
       " (1, 6),\n",
       " (1, 7),\n",
       " (1, 8),\n",
       " (1, 9),\n",
       " (2, 0),\n",
       " (2, 1),\n",
       " (2, 2),\n",
       " (2, 3),\n",
       " (2, 4),\n",
       " (2, 5),\n",
       " (2, 6),\n",
       " (2, 7),\n",
       " (2, 8),\n",
       " (2, 9),\n",
       " (3, 0),\n",
       " (3, 1),\n",
       " (3, 2),\n",
       " (3, 3),\n",
       " (3, 4),\n",
       " (3, 5),\n",
       " (3, 6),\n",
       " (3, 7),\n",
       " (3, 8),\n",
       " (3, 9),\n",
       " (4, 0),\n",
       " (4, 1),\n",
       " (4, 2),\n",
       " (4, 3),\n",
       " (4, 4),\n",
       " (4, 5),\n",
       " (4, 6),\n",
       " (4, 7),\n",
       " (4, 8),\n",
       " (4, 9),\n",
       " (5, 0),\n",
       " (5, 1),\n",
       " (5, 2),\n",
       " (5, 3),\n",
       " (5, 4),\n",
       " (5, 5),\n",
       " (5, 6),\n",
       " (5, 7),\n",
       " (5, 8),\n",
       " (5, 9),\n",
       " (6, 0),\n",
       " (6, 1),\n",
       " (6, 2),\n",
       " (6, 3),\n",
       " (6, 4),\n",
       " (6, 5),\n",
       " (6, 6),\n",
       " (6, 7),\n",
       " (6, 8),\n",
       " (6, 9),\n",
       " (7, 0),\n",
       " (7, 1),\n",
       " (7, 2),\n",
       " (7, 3),\n",
       " (7, 4),\n",
       " (7, 5),\n",
       " (7, 6),\n",
       " (7, 7),\n",
       " (7, 8),\n",
       " (7, 9),\n",
       " (8, 0),\n",
       " (8, 1),\n",
       " (8, 2),\n",
       " (8, 3),\n",
       " (8, 4),\n",
       " (8, 5),\n",
       " (8, 6),\n",
       " (8, 7),\n",
       " (8, 8),\n",
       " (8, 9),\n",
       " (9, 0),\n",
       " (9, 1),\n",
       " (9, 2),\n",
       " (9, 3),\n",
       " (9, 4),\n",
       " (9, 5),\n",
       " (9, 6),\n",
       " (9, 7),\n",
       " (9, 8),\n",
       " (9, 9)]"
      ]
     },
     "execution_count": 42,
     "metadata": {},
     "output_type": "execute_result"
    }
   ],
   "source": [
    "[node for node in epidemic_data if epidemic_data[node][\"Infected Status\"] == \"Susceptible\"]"
   ]
  },
  {
   "cell_type": "code",
   "execution_count": null,
   "metadata": {},
   "outputs": [],
   "source": []
  }
 ],
 "metadata": {
  "kernelspec": {
   "display_name": "Python 3",
   "language": "python",
   "name": "python3"
  },
  "language_info": {
   "codemirror_mode": {
    "name": "ipython",
    "version": 3
   },
   "file_extension": ".py",
   "mimetype": "text/x-python",
   "name": "python",
   "nbconvert_exporter": "python",
   "pygments_lexer": "ipython3",
   "version": "3.7.4"
  }
 },
 "nbformat": 4,
 "nbformat_minor": 4
}
