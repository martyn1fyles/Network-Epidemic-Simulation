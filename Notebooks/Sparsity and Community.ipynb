{
 "cells": [
  {
   "cell_type": "markdown",
   "metadata": {},
   "source": [
    "## Communities and sparse networks"
   ]
  },
  {
   "cell_type": "markdown",
   "metadata": {},
   "source": [
    "Recently, I've started working under the assumption that the network is fairly sparse. I've read a lot of reports, and I don't really believe that injectors are sharing their equipment all that frequently, and with that many people.\n",
    "\n",
    "Intuitively this makes sense, people know sharing equipment is a risky behaviour.\n",
    "\n",
    "Common causes of sharing injection equipment:\n",
    "* Withdrawal\n",
    "* Sexual Partner with another injector\n",
    "* Confiscation of injection equipment"
   ]
  },
  {
   "cell_type": "code",
   "execution_count": 69,
   "metadata": {},
   "outputs": [],
   "source": [
    "import sys\n",
    "sys.path.append('..')\n",
    "from NetworkEpidemicSimulation.Simulation import complex_epidemic_simulation\n",
    "from NetworkEpidemicSimulation.DynamicNetworks import dynamic_stochastic_block_model\n",
    "import networkx as nx\n",
    "import matplotlib.pyplot as plt\n",
    "import numpy as np\n",
    "from sklearn.cluster import SpectralClustering"
   ]
  },
  {
   "cell_type": "markdown",
   "metadata": {},
   "source": [
    "# Universal Parameters"
   ]
  },
  {
   "cell_type": "code",
   "execution_count": 70,
   "metadata": {},
   "outputs": [],
   "source": [
    "beta = 0.00031\n",
    "infection_period = 1000\n",
    "network_connectedness = 1\n",
    "community_connectedness = 5"
   ]
  },
  {
   "cell_type": "code",
   "execution_count": 18,
   "metadata": {},
   "outputs": [],
   "source": [
    "number_of_communities = 100\n",
    "community_size = 10\n",
    "N = number_of_communities * community_size\n",
    "\n",
    "\n",
    "sizes = [community_size for x in range(number_of_communities)]\n",
    "\n",
    "p = [[network_connectedness/(N-community_size) for x in range(number_of_communities)] for y in range(number_of_communities)]\n",
    "\n",
    "for i in range(number_of_communities):\n",
    "    p[i][i] = community_connectedness/(community_size-1)\n",
    "\n",
    "G = nx.generators.community.stochastic_block_model(sizes, p)"
   ]
  },
  {
   "cell_type": "code",
   "execution_count": 20,
   "metadata": {},
   "outputs": [],
   "source": [
    "#my_network_model = dynamic_stochastic_block_model(sizes, p, m, waiting_time_par= 10, end_time = 1500)\n",
    "\n",
    "my_network_epidemic = complex_epidemic_simulation(G,        # The network we defined earlier\n",
    "                                                  beta = beta,             # Nodes emit hazard at a rate of 0.05 per day (constant rate, but can be changed)\n",
    "                                                  infection_period_parameters = infection_period,       # The length of an infection is distributed exponentially\n",
    "                                                  initial_infected = 321,  # 100 nodes are initially infected at time = 0\n",
    "                                                  time_increment = 0.5,    # Time is incremented in half a unit of time\n",
    "                                                  max_iterations = 5000,   # 3000 increments are performed, so time = 1500 at the end.\n",
    "                                                  SIS = True)              # The epidemic is of type SIS"
   ]
  },
  {
   "cell_type": "code",
   "execution_count": 21,
   "metadata": {},
   "outputs": [],
   "source": [
    "my_network_epidemic.iterate_epidemic()"
   ]
  },
  {
   "cell_type": "markdown",
   "metadata": {},
   "source": [
    "A ballpark estimate for the prevalence of HCV in PWID is 32.1% in Greater Manchester."
   ]
  },
  {
   "cell_type": "code",
   "execution_count": 22,
   "metadata": {},
   "outputs": [
    {
     "data": {
      "text/plain": [
       "[<matplotlib.lines.Line2D at 0x25d29092d48>]"
      ]
     },
     "execution_count": 22,
     "metadata": {},
     "output_type": "execute_result"
    },
    {
     "data": {
      "image/png": "[encoded data removed]",
      "text/plain": [
       "<Figure size 1440x360 with 1 Axes>"
      ]
     },
     "metadata": {
      "needs_background": "light"
     },
     "output_type": "display_data"
    }
   ],
   "source": [
    "plt.rcParams['figure.figsize'] = [20, 5]\n",
    "\n",
    "plt.ylim((0,N))\n",
    "plt.xlim((0,2500))\n",
    "plt.plot(my_network_epidemic.data_time, my_network_epidemic.data_infected_counts)"
   ]
  },
  {
   "cell_type": "code",
   "execution_count": 23,
   "metadata": {},
   "outputs": [
    {
     "data": {
      "text/plain": [
       "0.3704893776555861"
      ]
     },
     "execution_count": 23,
     "metadata": {},
     "output_type": "execute_result"
    }
   ],
   "source": [
    "np.mean(my_network_epidemic.data_infected_counts[1000:])/N"
   ]
  },
  {
   "cell_type": "markdown",
   "metadata": {},
   "source": [
    "# Network 2\n",
    "* number_of_communities = 50\n",
    "* community_size = 20"
   ]
  },
  {
   "cell_type": "code",
   "execution_count": 61,
   "metadata": {
    "jupyter": {
     "source_hidden": true
    }
   },
   "outputs": [],
   "source": [
    "number_of_communities = 50\n",
    "community_size = 20\n",
    "N = number_of_communities * community_size\n",
    "network_connectedness = 1\n",
    "community_connectedness = 5\n",
    "\n",
    "sizes = [community_size for x in range(number_of_communities)]\n",
    "\n",
    "p = [[network_connectedness/(N-community_size) for x in range(number_of_communities)] for y in range(number_of_communities)]\n",
    "\n",
    "for i in range(number_of_communities):\n",
    "    p[i][i] = community_connectedness/(community_size-1)\n",
    "\n",
    "G = nx.generators.community.stochastic_block_model(sizes, p)"
   ]
  },
  {
   "cell_type": "code",
   "execution_count": 56,
   "metadata": {
    "collapsed": true,
    "jupyter": {
     "outputs_hidden": true,
     "source_hidden": true
    }
   },
   "outputs": [
    {
     "data": {
      "text/plain": [
       "5.966"
      ]
     },
     "execution_count": 56,
     "metadata": {},
     "output_type": "execute_result"
    }
   ],
   "source": [
    "np.mean([node[1] for node in G.degree()])"
   ]
  },
  {
   "cell_type": "code",
   "execution_count": 57,
   "metadata": {
    "jupyter": {
     "source_hidden": true
    }
   },
   "outputs": [],
   "source": [
    "#my_network_model = dynamic_stochastic_block_model(sizes, p, m, waiting_time_par= 10, end_time = 1500)\n",
    "\n",
    "my_network_epidemic = complex_epidemic_simulation(G,        # The network we defined earlier\n",
    "                                                  beta = beta,             # Nodes emit hazard at a rate of 0.05 per day (constant rate, but can be changed)\n",
    "                                                  infection_period_parameters = infection_period,       # The length of an infection is distributed exponentially\n",
    "                                                  initial_infected = 321,  # 100 nodes are initially infected at time = 0\n",
    "                                                  time_increment = 0.5,    # Time is incremented in half a unit of time\n",
    "                                                  max_iterations = 5000,   # 3000 increments are performed, so time = 1500 at the end.\n",
    "                                                  SIS = True)              # The epidemic is of type SIS"
   ]
  },
  {
   "cell_type": "code",
   "execution_count": 58,
   "metadata": {
    "jupyter": {
     "source_hidden": true
    }
   },
   "outputs": [],
   "source": [
    "my_network_epidemic.iterate_epidemic()"
   ]
  },
  {
   "cell_type": "code",
   "execution_count": 59,
   "metadata": {
    "jupyter": {
     "source_hidden": true
    }
   },
   "outputs": [
    {
     "data": {
      "text/plain": [
       "[<matplotlib.lines.Line2D at 0x25d2b7b7dc8>]"
      ]
     },
     "execution_count": 59,
     "metadata": {},
     "output_type": "execute_result"
    },
    {
     "data": {
      "image/png": "[encoded data removed]",
      "text/plain": [
       "<Figure size 1440x360 with 1 Axes>"
      ]
     },
     "metadata": {
      "needs_background": "light"
     },
     "output_type": "display_data"
    }
   ],
   "source": [
    "plt.rcParams['figure.figsize'] = [20, 5]\n",
    "\n",
    "plt.ylim((0,N))\n",
    "plt.xlim((0,2500))\n",
    "plt.plot(my_network_epidemic.data_time, my_network_epidemic.data_infected_counts)"
   ]
  },
  {
   "cell_type": "code",
   "execution_count": 60,
   "metadata": {},
   "outputs": [
    {
     "data": {
      "text/plain": [
       "0.375670832291927"
      ]
     },
     "execution_count": 60,
     "metadata": {},
     "output_type": "execute_result"
    }
   ],
   "source": [
    "np.mean(my_network_epidemic.data_infected_counts[1000:])/N"
   ]
  },
  {
   "cell_type": "markdown",
   "metadata": {},
   "source": [
    "# Network 3\n",
    "* number_of_communities = 10\n",
    "* community_size = 100"
   ]
  },
  {
   "cell_type": "code",
   "execution_count": 62,
   "metadata": {
    "jupyter": {
     "source_hidden": true
    }
   },
   "outputs": [],
   "source": [
    "number_of_communities = 10\n",
    "community_size = 100\n",
    "N = number_of_communities * community_size\n",
    "network_connectedness = 1\n",
    "community_connectedness = 5\n",
    "\n",
    "sizes = [community_size for x in range(number_of_communities)]\n",
    "\n",
    "p = [[network_connectedness/(N-community_size) for x in range(number_of_communities)] for y in range(number_of_communities)]\n",
    "\n",
    "for i in range(number_of_communities):\n",
    "    p[i][i] = community_connectedness/(community_size-1)\n",
    "\n",
    "G = nx.generators.community.stochastic_block_model(sizes, p)"
   ]
  },
  {
   "cell_type": "code",
   "execution_count": 63,
   "metadata": {},
   "outputs": [
    {
     "data": {
      "text/plain": [
       "6.138"
      ]
     },
     "execution_count": 63,
     "metadata": {},
     "output_type": "execute_result"
    }
   ],
   "source": [
    "np.mean([node[1] for node in G.degree()])"
   ]
  },
  {
   "cell_type": "code",
   "execution_count": 64,
   "metadata": {
    "jupyter": {
     "source_hidden": true
    }
   },
   "outputs": [],
   "source": [
    "#my_network_model = dynamic_stochastic_block_model(sizes, p, m, waiting_time_par= 10, end_time = 1500)\n",
    "\n",
    "my_network_epidemic = complex_epidemic_simulation(G,        # The network we defined earlier\n",
    "                                                  beta = beta,             # Nodes emit hazard at a rate of 0.05 per day (constant rate, but can be changed)\n",
    "                                                  infection_period_parameters = infection_period,       # The length of an infection is distributed exponentially\n",
    "                                                  initial_infected = 321,  # 100 nodes are initially infected at time = 0\n",
    "                                                  time_increment = 0.5,    # Time is incremented in half a unit of time\n",
    "                                                  max_iterations = 5000,   # 3000 increments are performed, so time = 1500 at the end.\n",
    "                                                  SIS = True)              # The epidemic is of type SIS"
   ]
  },
  {
   "cell_type": "code",
   "execution_count": 65,
   "metadata": {
    "jupyter": {
     "source_hidden": true
    }
   },
   "outputs": [],
   "source": [
    "my_network_epidemic.iterate_epidemic()"
   ]
  },
  {
   "cell_type": "code",
   "execution_count": 47,
   "metadata": {},
   "outputs": [
    {
     "data": {
      "text/plain": [
       "[<matplotlib.lines.Line2D at 0x25d2b286dc8>]"
      ]
     },
     "execution_count": 47,
     "metadata": {},
     "output_type": "execute_result"
    },
    {
     "data": {
      "image/png": "[encoded data removed]",
      "text/plain": [
       "<Figure size 1440x360 with 1 Axes>"
      ]
     },
     "metadata": {
      "needs_background": "light"
     },
     "output_type": "display_data"
    }
   ],
   "source": [
    "plt.rcParams['figure.figsize'] = [20, 5]\n",
    "\n",
    "plt.ylim((0,N))\n",
    "plt.xlim((0,2500))\n",
    "plt.plot(my_network_epidemic.data_time, my_network_epidemic.data_infected_counts)"
   ]
  },
  {
   "cell_type": "code",
   "execution_count": 48,
   "metadata": {},
   "outputs": [
    {
     "data": {
      "text/plain": [
       "0.3710167458135466"
      ]
     },
     "execution_count": 48,
     "metadata": {},
     "output_type": "execute_result"
    }
   ],
   "source": [
    "np.mean(my_network_epidemic.data_infected_counts[1000:])/N"
   ]
  }
 ],
 "metadata": {
  "kernelspec": {
   "display_name": "Python 3",
   "language": "python",
   "name": "python3"
  },
  "language_info": {
   "codemirror_mode": {
    "name": "ipython",
    "version": 3
   },
   "file_extension": ".py",
   "mimetype": "text/x-python",
   "name": "python",
   "nbconvert_exporter": "python",
   "pygments_lexer": "ipython3",
   "version": "3.7.4"
  }
 },
 "nbformat": 4,
 "nbformat_minor": 4
}
