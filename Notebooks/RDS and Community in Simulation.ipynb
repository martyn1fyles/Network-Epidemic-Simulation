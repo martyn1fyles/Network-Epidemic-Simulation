{
 "cells": [
  {
   "cell_type": "markdown",
   "metadata": {},
   "source": [
    "# Prototyping a Respondent Driven Sampling Scenario"
   ]
  },
  {
   "cell_type": "markdown",
   "metadata": {},
   "source": [
    "Model Definition:\n",
    "* A node is selected for contact tracing, at the timepoints of a markov process with parameter $\\mu$\n",
    "* Once a node has been selected for contact tracing, a connected node is selected for contact tracing with probability $p$\n",
    "* After a node has been selected for contact tracing, it is immediately returned to the susceptible state\n",
    "\n",
    "In other words, it is a simple branching process.\n",
    "\n",
    "Possible modifications: Only branches along the infected."
   ]
  },
  {
   "cell_type": "markdown",
   "metadata": {},
   "source": [
    "# Imports"
   ]
  },
  {
   "cell_type": "code",
   "execution_count": 35,
   "metadata": {},
   "outputs": [],
   "source": [
    "import sys\n",
    "sys.path.append('..')\n",
    "from NetworkEpidemicSimulation.Simulation import complex_epidemic_simulation\n",
    "from NetworkEpidemicSimulation.DynamicNetworks import dynamic_stochastic_block_model\n",
    "import networkx as nx\n",
    "import matplotlib.pyplot as plt\n",
    "import numpy as np\n",
    "from sklearn.cluster import SpectralClustering"
   ]
  },
  {
   "cell_type": "markdown",
   "metadata": {},
   "source": [
    "# RDS Function and Data"
   ]
  },
  {
   "cell_type": "code",
   "execution_count": 36,
   "metadata": {},
   "outputs": [],
   "source": [
    "#We begin by pre-generating the times at which the respondant driven sampling occurs, and which node initiates the sampling event.\n",
    "time_between_events = 50\n",
    "tracing_events = []\n",
    "total_time = 0\n",
    "simulation_end_time = 2500\n",
    "node_keys = range(1000)\n",
    "while total_time < simulation_end_time:\n",
    "    new_waiting_time = np.random.exponential(time_between_events)\n",
    "    total_time += new_waiting_time\n",
    "    selected_node = np.random.choice(node_keys)\n",
    "    tracing_events.append((total_time,selected_node))\n",
    "contact_tracing_prob = 0.21"
   ]
  },
  {
   "cell_type": "code",
   "execution_count": 37,
   "metadata": {},
   "outputs": [],
   "source": [
    "def contact_tracing_event(self):\n",
    "    node = [event[1] for event in tracing_events if event[0] > self.time and event[0] < self.time + 0.5]\n",
    "    if node != []:\n",
    "        \n",
    "        current_round = node\n",
    "        all_traced_nodes = current_round\n",
    "        \n",
    "        #If the last round was not empty, a new round of contact tracing is started\n",
    "        while current_round != []:\n",
    "            \n",
    "            #Empty set to store the new round\n",
    "            new_round = []\n",
    "        \n",
    "            #loop over the last round, to see if they do any branches\n",
    "            for node in current_round:\n",
    "                for neighbour in list(self.G.neighbors(node)):\n",
    "                    if neighbour not in all_traced_nodes:\n",
    "                        if np.random.random() < contact_tracing_prob:\n",
    "                            new_round.append(neighbour)\n",
    "                #[new_round.append(neighbour) for neighbour in list(self.G.neighbors(node)) if neighbour not in all_traced_nodes and a.any(np.random.binomial(1,p) == 1)]\n",
    "\n",
    "            [all_traced_nodes.append(new_node) for new_node in new_round]\n",
    "            \n",
    "            current_round = new_round\n",
    "        #print(\"Contact Tracing Event:\", all_traced_nodes)\n",
    "        self.update_infection_stage(all_traced_nodes, \"Susceptible\", self.time)\n",
    "            "
   ]
  },
  {
   "cell_type": "markdown",
   "metadata": {},
   "source": [
    "# Simulation Parameters"
   ]
  },
  {
   "cell_type": "code",
   "execution_count": 41,
   "metadata": {},
   "outputs": [],
   "source": [
    "model = range(3)\n",
    "community_size = [10,20,100]\n",
    "number_of_communities = [100,50,10]\n",
    "repeats = 20\n",
    "network_connectedness = 1\n",
    "community_connectedness = 5\n",
    "N = 1000\n",
    "beta = 0.00031\n",
    "infection_period = 1000\n",
    "max_iter = 6000"
   ]
  },
  {
   "cell_type": "markdown",
   "metadata": {},
   "source": [
    "# Simulation"
   ]
  },
  {
   "cell_type": "code",
   "execution_count": 43,
   "metadata": {},
   "outputs": [
    {
     "name": "stdout",
     "output_type": "stream",
     "text": [
      "Round:  2     Percentage Complete:  95 %\r"
     ]
    }
   ],
   "source": [
    "results = np.zeros(shape = (3,repeats, max_iter + 1))\n",
    "\n",
    "for i in model:\n",
    "    \n",
    "    \n",
    "    for j in range(repeats):\n",
    "        \n",
    "        # Network Generation Step\n",
    "        sizes = [community_size[i] for x in range(number_of_communities[i])]\n",
    "        p = [[network_connectedness/(N-community_size[i]) for x in range(number_of_communities[i])] for y in range(number_of_communities[i])]\n",
    "        for k in range(number_of_communities[i]):\n",
    "            p[k][k] = community_connectedness/(community_size[i]-1)\n",
    "        G = nx.generators.community.stochastic_block_model(sizes, p)\n",
    "        \n",
    "        # Set up for Epidemic\n",
    "        my_network_epidemic = complex_epidemic_simulation(G,\n",
    "                                                  beta = beta,\n",
    "                                                  infection_period_parameters = infection_period,\n",
    "                                                  initial_infected = 321,\n",
    "                                                  time_increment = 0.5,\n",
    "                                                  max_iterations = max_iter,\n",
    "                                                  SIS = True,\n",
    "                                                  custom_behaviour = contact_tracing_event)\n",
    "        \n",
    "        # Run the epidemic\n",
    "        my_network_epidemic.iterate_epidemic()\n",
    "        \n",
    "        time = my_network_epidemic.data_time\n",
    "        \n",
    "        infected_counts = my_network_epidemic.data_infected_counts \n",
    "        \n",
    "        while len(my_network_epidemic.data_infected_counts) < max_iter + 1:\n",
    "            infected_counts.append(0)\n",
    "        \n",
    "        results[i, j] = results[i, j] + infected_counts\n",
    "        sys.stdout.flush()\n",
    "        print('Round: ', i, '    Percentage Complete: ', round(j/repeats*100), '%' , end='\\r')"
   ]
  },
  {
   "cell_type": "code",
   "execution_count": 44,
   "metadata": {},
   "outputs": [
    {
     "data": {
      "text/plain": [
       "<matplotlib.legend.Legend at 0x1b031b74848>"
      ]
     },
     "execution_count": 44,
     "metadata": {},
     "output_type": "execute_result"
    },
    {
     "data": {
      "image/png": "[encoded data removed]",
      "text/plain": [
       "<Figure size 1440x360 with 1 Axes>"
      ]
     },
     "metadata": {
      "needs_background": "light"
     },
     "output_type": "display_data"
    }
   ],
   "source": [
    "median = np.zeros(shape = (3, max_iter + 1))\n",
    "for i in range(3):\n",
    "    for j in range(max_iter + 1):\n",
    "        median[i, j] = median[i, j] + np.median(results[i, :, j])\n",
    "\n",
    "plt.rcParams['figure.figsize'] = [20, 5]        \n",
    "        \n",
    "plt.title(\"After $t=500$ nodes migrating into block 0 are instantly cured with probability $p$\")\n",
    "plt.ylim((0,1000))\n",
    "plt.xlim((0,max_iter + 1))\n",
    "plt.xlabel(\"Time\")\n",
    "plt.ylabel(\"Number of Infected\")\n",
    "\n",
    "time = [i*0.5 for i in range(max_iter + 1)]\n",
    "    \n",
    "color_range = [\"blue\", \"green\", \"orange\"] \n",
    "\n",
    "for model in range(3):\n",
    "    plt.plot(time, median[model, :], color = color_range[model], alpha = 0.6)\n",
    "\n",
    "plt.legend([\"$k$ = 10\",\"$k$ = 50\",\"$k$ = 100\"])"
   ]
  },
  {
   "cell_type": "code",
   "execution_count": null,
   "metadata": {},
   "outputs": [],
   "source": []
  }
 ],
 "metadata": {
  "kernelspec": {
   "display_name": "Python 3",
   "language": "python",
   "name": "python3"
  },
  "language_info": {
   "codemirror_mode": {
    "name": "ipython",
    "version": 3
   },
   "file_extension": ".py",
   "mimetype": "text/x-python",
   "name": "python",
   "nbconvert_exporter": "python",
   "pygments_lexer": "ipython3",
   "version": "3.7.4"
  }
 },
 "nbformat": 4,
 "nbformat_minor": 4
}
