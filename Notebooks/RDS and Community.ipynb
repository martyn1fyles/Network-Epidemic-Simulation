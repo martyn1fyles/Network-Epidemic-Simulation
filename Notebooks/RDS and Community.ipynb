{
 "cells": [
  {
   "cell_type": "markdown",
   "metadata": {},
   "source": [
    "# Prototyping a Respondent Driven Sampling Scenario"
   ]
  },
  {
   "cell_type": "markdown",
   "metadata": {},
   "source": [
    "Model Definition:\n",
    "* A node is selected for contact tracing, at the timepoints of a markov process with parameter $\\mu$\n",
    "* Once a node has been selected for contact tracing, a connected node is selected for contact tracing with probability $p$\n",
    "* After a node has been selected for contact tracing, it is immediately returned to the susceptible state\n",
    "\n",
    "In other words, it is a simple branching process.\n",
    "\n",
    "Possible modifications: Only branches along the infected."
   ]
  },
  {
   "cell_type": "code",
   "execution_count": 1,
   "metadata": {},
   "outputs": [],
   "source": [
    "import sys\n",
    "sys.path.append('..')\n",
    "from NetworkEpidemicSimulation.Simulation import complex_epidemic_simulation\n",
    "from NetworkEpidemicSimulation.DynamicNetworks import dynamic_stochastic_block_model\n",
    "import networkx as nx\n",
    "import matplotlib.pyplot as plt\n",
    "import numpy as np\n",
    "from sklearn.cluster import SpectralClustering"
   ]
  },
  {
   "cell_type": "code",
   "execution_count": 15,
   "metadata": {},
   "outputs": [],
   "source": [
    "#We begin by pre-generating the times at which the respondant driven sampling occurs, and which node initiates the sampling event.\n",
    "time_between_events = 50\n",
    "tracing_events = []\n",
    "total_time = 0\n",
    "simulation_end_time = 2500\n",
    "node_keys = range(1000)\n",
    "while total_time < simulation_end_time:\n",
    "    new_waiting_time = np.random.exponential(time_between_events)\n",
    "    total_time += new_waiting_time\n",
    "    selected_node = np.random.choice(node_keys)\n",
    "    tracing_events.append((total_time,selected_node))\n",
    "contact_tracing_prob = 0.21"
   ]
  },
  {
   "cell_type": "code",
   "execution_count": 16,
   "metadata": {},
   "outputs": [],
   "source": [
    "def contact_tracing_event(self):\n",
    "    node = [event[1] for event in tracing_events if event[0] > self.time and event[0] < self.time + 0.5]\n",
    "    if node != []:\n",
    "        \n",
    "        current_round = node\n",
    "        all_traced_nodes = current_round\n",
    "        \n",
    "        #If the last round was not empty, a new round of contact tracing is started\n",
    "        while current_round != []:\n",
    "            \n",
    "            #Empty set to store the new round\n",
    "            new_round = []\n",
    "        \n",
    "            #loop over the last round, to see if they do any branches\n",
    "            for node in current_round:\n",
    "                for neighbour in list(self.G.neighbors(node)):\n",
    "                    if neighbour not in all_traced_nodes:\n",
    "                        if np.random.random() < contact_tracing_prob:\n",
    "                            new_round.append(neighbour)\n",
    "                #[new_round.append(neighbour) for neighbour in list(self.G.neighbors(node)) if neighbour not in all_traced_nodes and a.any(np.random.binomial(1,p) == 1)]\n",
    "\n",
    "            [all_traced_nodes.append(new_node) for new_node in new_round]\n",
    "            \n",
    "            current_round = new_round\n",
    "        #print(\"Contact Tracing Event:\", all_traced_nodes)\n",
    "        self.update_infection_stage(all_traced_nodes, \"Susceptible\", self.time)\n",
    "            "
   ]
  },
  {
   "cell_type": "markdown",
   "metadata": {},
   "source": [
    "# Network 1:\n",
    "* number_of_communities = 100\n",
    "* community_size = 10"
   ]
  },
  {
   "cell_type": "code",
   "execution_count": 17,
   "metadata": {},
   "outputs": [],
   "source": [
    "np.random.seed(1)\n",
    "number_of_communities = 100\n",
    "community_size = 10\n",
    "N = number_of_communities * community_size\n",
    "network_connectedness = 1\n",
    "community_connectedness = 5\n",
    "\n",
    "sizes = [community_size for x in range(number_of_communities)]\n",
    "\n",
    "p = [[network_connectedness/(N-community_size) for x in range(number_of_communities)] for y in range(number_of_communities)]\n",
    "\n",
    "for i in range(number_of_communities):\n",
    "    p[i][i] = community_connectedness/(community_size-1)\n",
    "\n",
    "G = nx.generators.community.stochastic_block_model(sizes, p)"
   ]
  },
  {
   "cell_type": "code",
   "execution_count": 18,
   "metadata": {},
   "outputs": [],
   "source": [
    "np.random.seed(1)\n",
    "#my_network_model = dynamic_stochastic_block_model(sizes, p, m, waiting_time_par= 10, end_time = 1500)\n",
    "beta = 0.00031\n",
    "infection_period = 1000\n",
    "my_network_epidemic = complex_epidemic_simulation(G,        # The network we defined earlier\n",
    "                                                  beta = beta,             # Nodes emit hazard at a rate of 0.05 per day (constant rate, but can be changed)\n",
    "                                                  infection_period_parameters = infection_period,       # The length of an infection is distributed exponentially\n",
    "                                                  initial_infected = 321,  # 100 nodes are initially infected at time = 0\n",
    "                                                  time_increment = 0.5,    # Time is incremented in half a unit of time\n",
    "                                                  max_iterations = 6000,   # 3000 increments are performed, so time = 1500 at the end.\n",
    "                                                  SIS = True,\n",
    "                                                  custom_behaviour = contact_tracing_event)              # The epidemic is of type SIS"
   ]
  },
  {
   "cell_type": "code",
   "execution_count": 19,
   "metadata": {},
   "outputs": [],
   "source": [
    "np.random.seed(1)\n",
    "my_network_epidemic.iterate_epidemic()"
   ]
  },
  {
   "cell_type": "code",
   "execution_count": 20,
   "metadata": {},
   "outputs": [
    {
     "data": {
      "text/plain": [
       "[<matplotlib.lines.Line2D at 0x17172e93e48>]"
      ]
     },
     "execution_count": 20,
     "metadata": {},
     "output_type": "execute_result"
    },
    {
     "data": {
      "image/png": "[encoded data removed]",
      "text/plain": [
       "<Figure size 1440x360 with 1 Axes>"
      ]
     },
     "metadata": {
      "needs_background": "light"
     },
     "output_type": "display_data"
    }
   ],
   "source": [
    "plt.rcParams['figure.figsize'] = [20, 5]\n",
    "\n",
    "plt.ylim((0,N))\n",
    "plt.xlim((0,3000))\n",
    "plt.plot(my_network_epidemic.data_time, my_network_epidemic.data_infected_counts)"
   ]
  },
  {
   "cell_type": "code",
   "execution_count": 21,
   "metadata": {},
   "outputs": [
    {
     "data": {
      "text/plain": [
       "0.27057108578284345"
      ]
     },
     "execution_count": 21,
     "metadata": {},
     "output_type": "execute_result"
    }
   ],
   "source": [
    "np.mean(my_network_epidemic.data_infected_counts[1000:])/N"
   ]
  },
  {
   "cell_type": "markdown",
   "metadata": {},
   "source": [
    "# Network 2\n",
    "* number_of_communities = 50\n",
    "* community_size = 20"
   ]
  },
  {
   "cell_type": "code",
   "execution_count": 22,
   "metadata": {},
   "outputs": [],
   "source": [
    "np.random.seed(1)\n",
    "number_of_communities = 50\n",
    "community_size = 20\n",
    "N = number_of_communities * community_size\n",
    "network_connectedness = 1\n",
    "community_connectedness = 5\n",
    "\n",
    "sizes = [community_size for x in range(number_of_communities)]\n",
    "\n",
    "p = [[network_connectedness/(N-community_size) for x in range(number_of_communities)] for y in range(number_of_communities)]\n",
    "\n",
    "for i in range(number_of_communities):\n",
    "    p[i][i] = community_connectedness/(community_size-1)\n",
    "\n",
    "G = nx.generators.community.stochastic_block_model(sizes, p)"
   ]
  },
  {
   "cell_type": "code",
   "execution_count": 23,
   "metadata": {
    "jupyter": {
     "source_hidden": true
    }
   },
   "outputs": [
    {
     "data": {
      "text/plain": [
       "6.11"
      ]
     },
     "execution_count": 23,
     "metadata": {},
     "output_type": "execute_result"
    }
   ],
   "source": [
    "np.mean([node[1] for node in G.degree()])"
   ]
  },
  {
   "cell_type": "code",
   "execution_count": 24,
   "metadata": {},
   "outputs": [],
   "source": [
    "np.random.seed(1)\n",
    "my_network_epidemic = complex_epidemic_simulation(G,        # The network we defined earlier\n",
    "                                                  beta = beta,             # Nodes emit hazard at a rate of 0.05 per day (constant rate, but can be changed)\n",
    "                                                  infection_period_parameters = infection_period,       # The length of an infection is distributed exponentially\n",
    "                                                  initial_infected = 321,  # 100 nodes are initially infected at time = 0\n",
    "                                                  time_increment = 0.5,    # Time is incremented in half a unit of time\n",
    "                                                  max_iterations = 5000,   # 3000 increments are performed, so time = 1500 at the end.\n",
    "                                                  SIS = True,\n",
    "                                                  custom_behaviour = contact_tracing_event)              # The epidemic is of type SIS"
   ]
  },
  {
   "cell_type": "code",
   "execution_count": 25,
   "metadata": {},
   "outputs": [],
   "source": [
    "np.random.seed(1)\n",
    "my_network_epidemic.iterate_epidemic()"
   ]
  },
  {
   "cell_type": "code",
   "execution_count": 26,
   "metadata": {},
   "outputs": [
    {
     "data": {
      "text/plain": [
       "[<matplotlib.lines.Line2D at 0x1717316aac8>]"
      ]
     },
     "execution_count": 26,
     "metadata": {},
     "output_type": "execute_result"
    },
    {
     "data": {
      "image/png": "[encoded data removed]",
      "text/plain": [
       "<Figure size 1440x360 with 1 Axes>"
      ]
     },
     "metadata": {
      "needs_background": "light"
     },
     "output_type": "display_data"
    }
   ],
   "source": [
    "plt.rcParams['figure.figsize'] = [20, 5]\n",
    "\n",
    "plt.ylim((0,N))\n",
    "plt.xlim((0,2500))\n",
    "plt.plot(my_network_epidemic.data_time, my_network_epidemic.data_infected_counts)"
   ]
  },
  {
   "cell_type": "code",
   "execution_count": 27,
   "metadata": {},
   "outputs": [
    {
     "data": {
      "text/plain": [
       "0.16879480129967508"
      ]
     },
     "execution_count": 27,
     "metadata": {},
     "output_type": "execute_result"
    }
   ],
   "source": [
    "np.mean(my_network_epidemic.data_infected_counts[1000:])/N"
   ]
  },
  {
   "cell_type": "markdown",
   "metadata": {},
   "source": [
    "# Network 3\n",
    "* number_of_communities = 10\n",
    "* community_size = 100"
   ]
  },
  {
   "cell_type": "code",
   "execution_count": 39,
   "metadata": {},
   "outputs": [],
   "source": [
    "number_of_communities = 10\n",
    "community_size = 100\n",
    "N = number_of_communities * community_size\n",
    "network_connectedness = 1\n",
    "community_connectedness = 5\n",
    "\n",
    "sizes = [community_size for x in range(number_of_communities)]\n",
    "\n",
    "p = [[network_connectedness/(N-community_size) for x in range(number_of_communities)] for y in range(number_of_communities)]\n",
    "\n",
    "for i in range(number_of_communities):\n",
    "    p[i][i] = community_connectedness/(community_size-1)\n",
    "\n",
    "G = nx.generators.community.stochastic_block_model(sizes, p)"
   ]
  },
  {
   "cell_type": "code",
   "execution_count": 40,
   "metadata": {},
   "outputs": [
    {
     "data": {
      "text/plain": [
       "5.85"
      ]
     },
     "execution_count": 40,
     "metadata": {},
     "output_type": "execute_result"
    }
   ],
   "source": [
    "np.mean([node[1] for node in G.degree()])"
   ]
  },
  {
   "cell_type": "code",
   "execution_count": 41,
   "metadata": {},
   "outputs": [],
   "source": [
    "#my_network_model = dynamic_stochastic_block_model(sizes, p, m, waiting_time_par= 10, end_time = 1500)\n",
    "\n",
    "my_network_epidemic = complex_epidemic_simulation(G,        # The network we defined earlier\n",
    "                                                  beta = beta,             # Nodes emit hazard at a rate of 0.05 per day (constant rate, but can be changed)\n",
    "                                                  infection_period_parameters = infection_period,       # The length of an infection is distributed exponentially\n",
    "                                                  initial_infected = 321,  # 100 nodes are initially infected at time = 0\n",
    "                                                  time_increment = 0.5,    # Time is incremented in half a unit of time\n",
    "                                                  max_iterations = 5000,   # 3000 increments are performed, so time = 1500 at the end.\n",
    "                                                  SIS = True,\n",
    "                                                  custom_behaviour = contact_tracing_event)              # The epidemic is of type SIS"
   ]
  },
  {
   "cell_type": "code",
   "execution_count": 42,
   "metadata": {},
   "outputs": [],
   "source": [
    "my_network_epidemic.iterate_epidemic()"
   ]
  },
  {
   "cell_type": "code",
   "execution_count": 43,
   "metadata": {},
   "outputs": [
    {
     "data": {
      "text/plain": [
       "[<matplotlib.lines.Line2D at 0x17176c84cc8>]"
      ]
     },
     "execution_count": 43,
     "metadata": {},
     "output_type": "execute_result"
    },
    {
     "data": {
      "image/png": "[encoded data removed]",
      "text/plain": [
       "<Figure size 1440x360 with 1 Axes>"
      ]
     },
     "metadata": {
      "needs_background": "light"
     },
     "output_type": "display_data"
    }
   ],
   "source": [
    "plt.rcParams['figure.figsize'] = [20, 5]\n",
    "\n",
    "plt.ylim((0,N))\n",
    "plt.xlim((0,2500))\n",
    "plt.plot(my_network_epidemic.data_time, my_network_epidemic.data_infected_counts)"
   ]
  },
  {
   "cell_type": "code",
   "execution_count": 44,
   "metadata": {},
   "outputs": [
    {
     "data": {
      "text/plain": [
       "0.09186453386653336"
      ]
     },
     "execution_count": 44,
     "metadata": {},
     "output_type": "execute_result"
    }
   ],
   "source": [
    "np.mean(my_network_epidemic.data_infected_counts[1000:])/N"
   ]
  }
 ],
 "metadata": {
  "kernelspec": {
   "display_name": "Python 3",
   "language": "python",
   "name": "python3"
  },
  "language_info": {
   "codemirror_mode": {
    "name": "ipython",
    "version": 3
   },
   "file_extension": ".py",
   "mimetype": "text/x-python",
   "name": "python",
   "nbconvert_exporter": "python",
   "pygments_lexer": "ipython3",
   "version": "3.7.4"
  }
 },
 "nbformat": 4,
 "nbformat_minor": 4
}
